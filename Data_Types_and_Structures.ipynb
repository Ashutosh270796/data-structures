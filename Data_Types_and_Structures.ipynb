{
  "nbformat": 4,
  "nbformat_minor": 0,
  "metadata": {
    "colab": {
      "provenance": []
    },
    "kernelspec": {
      "name": "python3",
      "display_name": "Python 3"
    },
    "language_info": {
      "name": "python"
    }
  },
  "cells": [
    {
      "cell_type": "markdown",
      "source": [
        "#Theory Questions\n",
        "###Q1.what are data structures and why are they important?\n",
        "#####ans.data structures are the way of storing, organizing and managing so that it can be easily accessed and manipulated.\n",
        "\n",
        " they are important because-1.efficiency.\n",
        "                            2.organization\n",
        "                            3.scalibility\n",
        "                            4.reuseability"
      ],
      "metadata": {
        "id": "gSBfgJcx0Liq"
      }
    },
    {
      "cell_type": "markdown",
      "source": [
        "###Q2.Explain the difference between mutable and immutable data types with examples?\n",
        "#####ans. **mutable data type->**these can be changd in place after creation you can modify ,add or remove elements without changing the object\"s identity (its memory address remains the same)\n",
        "\n",
        "  example->  1.list=[1,4,9,0,5]\n",
        "             2.dict={\"age\":25,\"name\":\"ashu\"}\n",
        "\n",
        "  **immutable data types->** these can not be changed once created if done so their identity will change.\n",
        "\n",
        "  example-> int=2,float=2.78"
      ],
      "metadata": {
        "id": "Ox-ppgOR1zHx"
      }
    },
    {
      "cell_type": "markdown",
      "source": [
        "###Q3.what are the main difference between list and tuple in python?\n",
        "#####ans.**list->**   \n",
        "1. mutable (can be changed)\n",
        "2.defined using square brackets[]\n",
        "3.use for dynamic data.\n",
        "4. use more memory.\n",
        "exaple- list=[1,2,3,4]\n",
        "\n",
        "**Tuple->**\n",
        "\n",
        "   1.immutable(can be changed)\n",
        "\n",
        "   2.defined using parenthesis()\n",
        "\n",
        "3.use for fixed data\n",
        "\n",
        "4.use less memory.\n",
        "\n",
        "example-a=(1,2,3,4)"
      ],
      "metadata": {
        "id": "42CbYNj_dQAL"
      }
    },
    {
      "cell_type": "markdown",
      "source": [
        "###Q4. How dictionaries store data?\n",
        "#####ans.  in python ,dictionaries store data as key value pair using data structure called a hash table.\n",
        "  my_dict={\"name\"=\"ashutosh\",age=23}\n",
        "\n",
        "  each key is passed through a hash function which generates a unique hash code (an integer)"
      ],
      "metadata": {
        "id": "Hnjpo_5wQw6W"
      }
    },
    {
      "cell_type": "markdown",
      "source": [
        "###Q5.Why might you use a set instead of a list in python?\n",
        "\n",
        "#####ans.when i need these characteristics then-\n",
        "1.unique elements only-\n",
        "list=[1,2,2,3,3,4,4,5,5]\n",
        "\n",
        "my_set=set(list) #{1,2,3,4,5}\n",
        "\n",
        "2.faster membership testing-> checking that any elements exist in any set is much faster than a set.\n",
        " 5 in my_set # search is fast compare to list.\n",
        "\n",
        " 2 in my_list\n",
        "\n",
        "3.set operations-\n",
        " all operations like intersection,union,difference.\n",
        "\n",
        "                                              \n",
        "                "
      ],
      "metadata": {
        "id": "vQvy81tETVr9"
      }
    },
    {
      "cell_type": "markdown",
      "source": [
        "###Q6.what is string in python,and how is it different from list?\n",
        "#####ans.in python , string is a sequence of characters enclosed in either single quates ('....')or double quotes(\".....\").\n",
        "my_string=\"hello_world\"\n",
        "\n",
        "1.immutable\n",
        "\n",
        "2.enclosed in quates\n",
        "\n",
        "3..upper()\n",
        "\n",
        "4..split()\n",
        "\n",
        "on otherhand,list is collection of different data type enclosed in[](square bracket)\n",
        "\n",
        "1.\n",
        "\n"
      ],
      "metadata": {
        "id": "w4FqnJFpgYux"
      }
    },
    {
      "cell_type": "markdown",
      "source": [
        "###Q7.how do tuples ensure data integrity in python?\n",
        "#####ans. Tuples ensures data integrity in python by being immutable .\n",
        "  means can not be changed once created throughout the program.\n",
        "  it remains fixed throughout pogram means can not be changed whn created.hence data remain same.and unchanged."
      ],
      "metadata": {
        "id": "7i1hHyHNDKcu"
      }
    },
    {
      "cell_type": "markdown",
      "source": [
        "###Q8.what is hash table and how does it relate to dictionaries in python?\n",
        "#####ans.hash table is data structure that stores data in the form of key value pair.hash table uses hash function to generate hash code from where it decides\n",
        "where to store data in memory.\n",
        "\n",
        "example- my_dict={\"fruit\":'orange',\"age\":29}\n",
        "         print(my_dict[\"fruit\"])  #output orange"
      ],
      "metadata": {
        "id": "OQh_XcAHETEu"
      }
    },
    {
      "cell_type": "markdown",
      "source": [
        "###Q9.can lists contain different data types in python?\n",
        "#####ans.yes,lists can take different data types in python.\n",
        "example->"
      ],
      "metadata": {
        "id": "g_gZg0fvGP78"
      }
    },
    {
      "cell_type": "code",
      "source": [
        "list=[1,\"apple\",1.1,4,5,5]\n",
        "print(list)"
      ],
      "metadata": {
        "colab": {
          "base_uri": "https://localhost:8080/"
        },
        "id": "IiTceZ4qGmT8",
        "outputId": "cc68382a-48a9-4517-b7dc-bdb9ab4114db"
      },
      "execution_count": null,
      "outputs": [
        {
          "output_type": "stream",
          "name": "stdout",
          "text": [
            "[1, 'apple', 1.1, 4, 5, 5]\n"
          ]
        }
      ]
    },
    {
      "cell_type": "markdown",
      "source": [
        "###Q10.explain why strings are immutable in python?\n",
        "#####ans.strings are immutable because once created can not modified\n",
        "any operation which seems modification actually creates new string.\n",
        "\n",
        "example-> ashu=\"anjali\"\n",
        "          ashu=\"mukesh\"#creates new string"
      ],
      "metadata": {
        "id": "JNizF3gbG7QD"
      }
    },
    {
      "cell_type": "markdown",
      "source": [
        "###Q11.what advantages do dictionaries offer over lists for certain task?\n",
        "#####ans.advantages of dictionaries over list is as follows-\n",
        "\n",
        " 1.dictionary carry data in the form of \"key\":\"value\" pair.no indexing like list.\n",
        "\n",
        " 2.dictionary uses hash function to generate hash values to assign memory for data.\n",
        ""
      ],
      "metadata": {
        "id": "xg5uUE46Kasa"
      }
    },
    {
      "cell_type": "markdown",
      "source": [
        "###Q12.describe a scenario where using a tuple would be preferable over a list?\n",
        "#####ans.requirements where no data modification is required tuple is better than list because tuole is immutable, but list is not.\n",
        "\n",
        "example ->\n",
        "t=(1,2,3,4)#tuple\n",
        "l=[1,2,34,45]#list\n"
      ],
      "metadata": {
        "id": "_klEnSGkiiGw"
      }
    },
    {
      "cell_type": "markdown",
      "source": [
        "###Q13.how do sets handle duplicate values in python?\n",
        "#####ans. set data structure remove duplicate values in the set."
      ],
      "metadata": {
        "id": "THIBw9HfjrIR"
      }
    },
    {
      "cell_type": "code",
      "source": [
        "s={1,1,2,2,3,3,3,4,4,4,4}\n",
        "print(s)"
      ],
      "metadata": {
        "colab": {
          "base_uri": "https://localhost:8080/"
        },
        "id": "efCseQ2elxz6",
        "outputId": "4bd97a12-9be0-476e-ddfb-3f4ac96afb3c"
      },
      "execution_count": 49,
      "outputs": [
        {
          "output_type": "stream",
          "name": "stdout",
          "text": [
            "{1, 2, 3, 4}\n"
          ]
        }
      ]
    },
    {
      "cell_type": "markdown",
      "source": [
        "###Q14.how does \"in\" keyword work differently for lists and dictionaries?\n",
        "#####ans."
      ],
      "metadata": {
        "id": "m19M9GWHl9fR"
      }
    },
    {
      "cell_type": "code",
      "source": [
        "list=[\"ajay\",\"bijay\",\"ashu\"]\n",
        "print(\"ajay\" in list)#searching for values not index"
      ],
      "metadata": {
        "colab": {
          "base_uri": "https://localhost:8080/"
        },
        "id": "TRxPZQCtmncJ",
        "outputId": "86f6253d-79f8-48f1-9257-3df8fc5beb0e"
      },
      "execution_count": 53,
      "outputs": [
        {
          "output_type": "stream",
          "name": "stdout",
          "text": [
            "True\n"
          ]
        }
      ]
    },
    {
      "cell_type": "code",
      "source": [
        "my_dict={\"name\":\"ashu\",\"age\":23}\n",
        "print(\"ashu\" in my_dict)#searching for key not values."
      ],
      "metadata": {
        "colab": {
          "base_uri": "https://localhost:8080/"
        },
        "id": "GZC938YPmzGa",
        "outputId": "eaf13a67-a04f-4567-d7e0-74dfb366a6f9"
      },
      "execution_count": 52,
      "outputs": [
        {
          "output_type": "stream",
          "name": "stdout",
          "text": [
            "False\n"
          ]
        }
      ]
    },
    {
      "cell_type": "markdown",
      "source": [
        "###Q15.can you modify the elements of a tuple ?explain why or why not?\n",
        "#####ans. we can not modify elements of tuple because tuple is immutable.any modification lead to new tuple.\n",
        "t=(1,2,3,4)\n",
        "t[0]=5 new tuple.\n",
        "          "
      ],
      "metadata": {
        "id": "dfnllZ4bnHUb"
      }
    },
    {
      "cell_type": "markdown",
      "source": [
        "###Q16.What is nested dictionary,and give an example of its use case?\n",
        "#####ans."
      ],
      "metadata": {
        "id": "FKGdgH8yn57K"
      }
    },
    {
      "cell_type": "code",
      "source": [
        "dict={\"name\":\"ashutosh_singh\",\"age\":23,\"my_dict\":{\"name\":\"ashu\",\"age\":29}}\n",
        "print(my_dict)"
      ],
      "metadata": {
        "colab": {
          "base_uri": "https://localhost:8080/"
        },
        "id": "TrCngY8SogAB",
        "outputId": "cdb2e6c3-a484-4eaa-e981-951577bc74aa"
      },
      "execution_count": 54,
      "outputs": [
        {
          "output_type": "stream",
          "name": "stdout",
          "text": [
            "{'name': 'ashu', 'age': 23}\n"
          ]
        }
      ]
    },
    {
      "cell_type": "markdown",
      "source": [
        "###Q17.describe the time complexity of accessing elements in a dictionary?\n",
        "\n",
        "#####ans. very fast in accessing of elements in dictionary.\n",
        "1.calculate the hash of key.\n",
        "2.uses that hash to straight jump to memory location.\n",
        "3.grabs the value.\n"
      ],
      "metadata": {
        "id": "zJ1VoxsBpHnJ"
      }
    },
    {
      "cell_type": "markdown",
      "source": [
        "###Q18.in what situations are lists preferred over dictionaries?\n",
        "#####ans. situations where lists are preferred is ->\n",
        "          1.list store value in index format\n",
        "          list=[1,2,3,4]\n",
        "          2.dictionary store value in \"key\":\"value\" pair\n",
        "  when we have to use for loop or while loop we generally prefer list on dict.\n",
        "  \n"
      ],
      "metadata": {
        "id": "GuUwnsO1qSup"
      }
    },
    {
      "cell_type": "markdown",
      "source": [
        "###Q19.why are dictionary considered unordered,and how does that affect data retrivel.\n",
        "#####ans. dictionary store data in \"key\":\"value\" pair there is no indexing so it is unordered .we have to get value direct from key.not from index\n",
        "\n",
        "can not use for loop to retrive data from dictionary because we have give \"key\"\n",
        " name"
      ],
      "metadata": {
        "id": "NERLQKuKrVMw"
      }
    },
    {
      "cell_type": "markdown",
      "source": [
        "###Q20.explain the difference between a list and a dictionary in terms of data retrival?\n",
        "#####ans. we can retrive data as follows->\n"
      ],
      "metadata": {
        "id": "C--sdY-jsUtA"
      }
    },
    {
      "cell_type": "code",
      "source": [
        "dict={\"age\":23,\"name\":\"ashu\"}\n",
        "print(dict[\"age\"])#retrival of data by key in dictionary"
      ],
      "metadata": {
        "colab": {
          "base_uri": "https://localhost:8080/"
        },
        "id": "jhf7Zv95tlVY",
        "outputId": "9969296c-586f-4383-ed30-6d67f7963a20"
      },
      "execution_count": 62,
      "outputs": [
        {
          "output_type": "stream",
          "name": "stdout",
          "text": [
            "23\n"
          ]
        }
      ]
    },
    {
      "cell_type": "code",
      "source": [
        "list=[11,22,33,44,55,66,77]\n",
        "print(list[3])#retrival of data by index in list"
      ],
      "metadata": {
        "colab": {
          "base_uri": "https://localhost:8080/"
        },
        "id": "g476pppmtvy-",
        "outputId": "9d5f7ef8-b2f0-40cb-8df1-f24a7f29bbbe"
      },
      "execution_count": 63,
      "outputs": [
        {
          "output_type": "stream",
          "name": "stdout",
          "text": [
            "44\n"
          ]
        }
      ]
    },
    {
      "cell_type": "markdown",
      "source": [
        "#**Practical questions**\n"
      ],
      "metadata": {
        "id": "mY2fYbirdN-J"
      }
    },
    {
      "cell_type": "code",
      "source": [
        "#Q1.write a code to create a string with your name and print?\n",
        "name=\"ashutosh_singh\"\n",
        "print(name)"
      ],
      "metadata": {
        "colab": {
          "base_uri": "https://localhost:8080/"
        },
        "id": "62OVeyXddZ8Q",
        "outputId": "b8c5cb31-ec7a-4dad-f857-8fe92a349b11"
      },
      "execution_count": null,
      "outputs": [
        {
          "output_type": "stream",
          "name": "stdout",
          "text": [
            "ashutosh_singh\n"
          ]
        }
      ]
    },
    {
      "cell_type": "code",
      "source": [
        "#Q2.write a code to find the length of string \"hello_world\"?\n",
        "x=\"hello_world\"\n",
        "len(x)"
      ],
      "metadata": {
        "colab": {
          "base_uri": "https://localhost:8080/"
        },
        "id": "ruRGZexxeDK6",
        "outputId": "ed910893-ebbf-48e1-d460-f2cdf76af00a"
      },
      "execution_count": null,
      "outputs": [
        {
          "output_type": "execute_result",
          "data": {
            "text/plain": [
              "11"
            ]
          },
          "metadata": {},
          "execution_count": 2
        }
      ]
    },
    {
      "cell_type": "code",
      "source": [
        "#Q3.write a code to slicethe first 3 characters from the string \"python programming\"\n",
        "x=\"python programming\"\n",
        "print(x[0:3])"
      ],
      "metadata": {
        "colab": {
          "base_uri": "https://localhost:8080/"
        },
        "id": "o0ZMqlp5ehva",
        "outputId": "b9b7fc32-3bf2-4996-a4c8-2676c7e20316"
      },
      "execution_count": null,
      "outputs": [
        {
          "output_type": "stream",
          "name": "stdout",
          "text": [
            "pyt\n"
          ]
        }
      ]
    },
    {
      "cell_type": "code",
      "source": [
        "#Q4.write a code to convert the string \"hello\" to uppercase?\n",
        "a='hello'\n",
        "a.upper()\n"
      ],
      "metadata": {
        "colab": {
          "base_uri": "https://localhost:8080/",
          "height": 36
        },
        "id": "KmK0xTb_fD0L",
        "outputId": "7ba94f7a-2797-4cf6-e53c-893992043fd3"
      },
      "execution_count": null,
      "outputs": [
        {
          "output_type": "execute_result",
          "data": {
            "text/plain": [
              "'HELLO'"
            ],
            "application/vnd.google.colaboratory.intrinsic+json": {
              "type": "string"
            }
          },
          "metadata": {},
          "execution_count": 5
        }
      ]
    },
    {
      "cell_type": "code",
      "source": [
        "#Q5.write acode to replace apple with orange in string \"i like apple\"\n",
        "x='i like apple'\n",
        "x.replace(\"apple\",\"orange\")"
      ],
      "metadata": {
        "colab": {
          "base_uri": "https://localhost:8080/",
          "height": 36
        },
        "id": "bOplp5sufvox",
        "outputId": "d2011d23-3af0-4c22-bdb4-23023d10b6cf"
      },
      "execution_count": null,
      "outputs": [
        {
          "output_type": "execute_result",
          "data": {
            "text/plain": [
              "'i like orange'"
            ],
            "application/vnd.google.colaboratory.intrinsic+json": {
              "type": "string"
            }
          },
          "metadata": {},
          "execution_count": 6
        }
      ]
    },
    {
      "cell_type": "code",
      "source": [
        "#Q6.write a code to create a list with numbers 1 to 5 and print it\n",
        "list=[1,2,3,4,5]\n",
        "print(list)"
      ],
      "metadata": {
        "colab": {
          "base_uri": "https://localhost:8080/"
        },
        "id": "nJsxOVGfj_Vk",
        "outputId": "a799ea2b-f101-43a1-f73c-42b182f4c07d"
      },
      "execution_count": null,
      "outputs": [
        {
          "output_type": "stream",
          "name": "stdout",
          "text": [
            "[1, 2, 3, 4, 5]\n"
          ]
        }
      ]
    },
    {
      "cell_type": "code",
      "source": [
        "#Q7.write a code to append the number 10 to the list [1,2,3,4]\n",
        "list=[1,2,3,4]\n",
        "list.append(10)\n",
        "print(list)"
      ],
      "metadata": {
        "colab": {
          "base_uri": "https://localhost:8080/"
        },
        "id": "4Dd1yM_-kUSl",
        "outputId": "b3ca7762-26f0-4dc4-d449-63caa7b4a347"
      },
      "execution_count": null,
      "outputs": [
        {
          "output_type": "stream",
          "name": "stdout",
          "text": [
            "[1, 2, 3, 4, 10]\n"
          ]
        }
      ]
    },
    {
      "cell_type": "code",
      "source": [
        "#Q8.write a code to remove the number 3 from the list [1,2,3,4,5]\n",
        "list=[1,2,3,4,5]\n",
        "list.remove(3)\n",
        "print(list)"
      ],
      "metadata": {
        "colab": {
          "base_uri": "https://localhost:8080/"
        },
        "id": "QihaKHCtk35t",
        "outputId": "d66825d9-6240-47e0-ec05-c462b0e99bd2"
      },
      "execution_count": null,
      "outputs": [
        {
          "output_type": "stream",
          "name": "stdout",
          "text": [
            "[1, 2, 4, 5]\n"
          ]
        }
      ]
    },
    {
      "cell_type": "markdown",
      "source": [],
      "metadata": {
        "id": "emTxjG0GQe6u"
      }
    },
    {
      "cell_type": "code",
      "source": [
        "#Q9.write a code to access the second element in the list['a','b','c','d']\n",
        "list=['a','b','c','d']\n",
        "print(list[1])"
      ],
      "metadata": {
        "colab": {
          "base_uri": "https://localhost:8080/"
        },
        "id": "R6Ur_-fwlVTj",
        "outputId": "c25d9993-7917-4bdc-f63b-0f959f7144ce"
      },
      "execution_count": null,
      "outputs": [
        {
          "output_type": "stream",
          "name": "stdout",
          "text": [
            "b\n"
          ]
        }
      ]
    },
    {
      "cell_type": "code",
      "source": [
        "#Q10.write a code to reverse the list[10,20,30,40,50]\n",
        "list=[10,20,30,40,50]\n",
        "list[: :-1]"
      ],
      "metadata": {
        "colab": {
          "base_uri": "https://localhost:8080/"
        },
        "id": "9IvCNooNlqpc",
        "outputId": "73147acb-7ff7-428c-a08f-9f20d26df30d"
      },
      "execution_count": null,
      "outputs": [
        {
          "output_type": "execute_result",
          "data": {
            "text/plain": [
              "[50, 40, 30, 20, 10]"
            ]
          },
          "metadata": {},
          "execution_count": 14
        }
      ]
    },
    {
      "cell_type": "code",
      "source": [
        "#Q11. write a code to create a tuple with the elements 100,200,300and print it\n",
        "tuple=(100,200,300)\n",
        "print(tuple)"
      ],
      "metadata": {
        "colab": {
          "base_uri": "https://localhost:8080/"
        },
        "id": "N_j34iJlnMCr",
        "outputId": "b9f5b620-7c3d-4a05-b25f-08eb1a414626"
      },
      "execution_count": null,
      "outputs": [
        {
          "output_type": "stream",
          "name": "stdout",
          "text": [
            "(100, 200, 300)\n"
          ]
        }
      ]
    },
    {
      "cell_type": "code",
      "source": [
        "#Q12.write a code to access the second to last elemrnt of the tuple ('red,'green','blue,'yellow')\n",
        "tuple=('red','green','blue','yellow')\n",
        "print(tuple[1:4])"
      ],
      "metadata": {
        "colab": {
          "base_uri": "https://localhost:8080/"
        },
        "id": "_yX1lEtWHZNM",
        "outputId": "76c4b28f-673f-4b99-98f7-e1bad08b7883"
      },
      "execution_count": null,
      "outputs": [
        {
          "output_type": "stream",
          "name": "stdout",
          "text": [
            "('green', 'blue', 'yellow')\n"
          ]
        }
      ]
    },
    {
      "cell_type": "code",
      "source": [
        "#Q13.write a code to find minnimum number in the tuple(10,20,5,15)\n",
        "tuple=(10,20,5,15)\n",
        "min(tuple)"
      ],
      "metadata": {
        "colab": {
          "base_uri": "https://localhost:8080/"
        },
        "id": "hdHmEnTpIAs7",
        "outputId": "893a5ccd-be34-492f-a541-1fca04f3a947"
      },
      "execution_count": null,
      "outputs": [
        {
          "output_type": "execute_result",
          "data": {
            "text/plain": [
              "5"
            ]
          },
          "metadata": {},
          "execution_count": 5
        }
      ]
    },
    {
      "cell_type": "code",
      "source": [
        "#Q14.write a code to find the index of the element 'cat' in the tuple ('dog','cat','rabbit')\n",
        "tuple=('dog','cat','rabbit')\n",
        "tuple.index('cat')"
      ],
      "metadata": {
        "colab": {
          "base_uri": "https://localhost:8080/"
        },
        "id": "lXqivWwvIV0z",
        "outputId": "a486a734-e649-46ec-c15b-3d4556a59a83"
      },
      "execution_count": null,
      "outputs": [
        {
          "output_type": "execute_result",
          "data": {
            "text/plain": [
              "1"
            ]
          },
          "metadata": {},
          "execution_count": 6
        }
      ]
    },
    {
      "cell_type": "code",
      "source": [
        "#Q15.write a code to create a tuple cotaining three different fruits and check if 'kiwi' in it?\n",
        "tuple=('apple','banana','kiwi')\n",
        "'kiwi' in tuple"
      ],
      "metadata": {
        "colab": {
          "base_uri": "https://localhost:8080/"
        },
        "id": "DpU0RO1YI60M",
        "outputId": "8a1f02cb-4172-4929-f3f4-d5f89300fe88"
      },
      "execution_count": null,
      "outputs": [
        {
          "output_type": "execute_result",
          "data": {
            "text/plain": [
              "True"
            ]
          },
          "metadata": {},
          "execution_count": 9
        }
      ]
    },
    {
      "cell_type": "code",
      "source": [
        "#Q16.write a code to create a set with the elements 'a','b','c' and print it?\n",
        "sets={'a','b','c'}\n",
        "print(sets)"
      ],
      "metadata": {
        "colab": {
          "base_uri": "https://localhost:8080/"
        },
        "id": "jp4HcO3cLISD",
        "outputId": "c358423b-2481-482c-a463-1f34941d8a0c"
      },
      "execution_count": null,
      "outputs": [
        {
          "output_type": "stream",
          "name": "stdout",
          "text": [
            "{'a', 'c', 'b'}\n"
          ]
        }
      ]
    },
    {
      "cell_type": "code",
      "source": [
        "#Q17.write a code to clear all elements from the set{1,2,3,4,5}?\n",
        "sets={1,2,3,4,5}\n",
        "sets.clear()\n",
        "print(sets)\n"
      ],
      "metadata": {
        "id": "_bsK1P5VLm-i",
        "colab": {
          "base_uri": "https://localhost:8080/"
        },
        "outputId": "01bd330b-e743-4e87-d924-60e4e7b7ea50"
      },
      "execution_count": 11,
      "outputs": [
        {
          "output_type": "stream",
          "name": "stdout",
          "text": [
            "set()\n"
          ]
        }
      ]
    },
    {
      "cell_type": "code",
      "source": [
        "#Q18.write a code to remove the element 4 from the set {1,2,3,4}?\n",
        "sets={1,2,3,4}\n",
        "sets.remove(4)\n",
        "print(sets)"
      ],
      "metadata": {
        "colab": {
          "base_uri": "https://localhost:8080/"
        },
        "id": "J2luZE9xXd9N",
        "outputId": "0daac808-136e-4af9-ace1-4b36c66e6e8c"
      },
      "execution_count": 12,
      "outputs": [
        {
          "output_type": "stream",
          "name": "stdout",
          "text": [
            "{1, 2, 3}\n"
          ]
        }
      ]
    },
    {
      "cell_type": "code",
      "source": [
        "#Q19.write a code to find union of two sets {1,2,3} and {3,4,5}?\n",
        "set1={1,2,3}\n",
        "set2={3,4,5}\n",
        "set1.union(set2)"
      ],
      "metadata": {
        "colab": {
          "base_uri": "https://localhost:8080/"
        },
        "id": "7ULvqPWnXu7c",
        "outputId": "bffa69a2-6da0-4c2d-fc3e-5dc7efe5033b"
      },
      "execution_count": 13,
      "outputs": [
        {
          "output_type": "execute_result",
          "data": {
            "text/plain": [
              "{1, 2, 3, 4, 5}"
            ]
          },
          "metadata": {},
          "execution_count": 13
        }
      ]
    },
    {
      "cell_type": "code",
      "source": [
        "#Q20.write a code to find intersection of two sets {1,2,3} and{2,3,4}?\n",
        "set1={1,2,3}\n",
        "set2={2,3,4}\n",
        "set1.intersection(set2)\n"
      ],
      "metadata": {
        "colab": {
          "base_uri": "https://localhost:8080/"
        },
        "id": "O6Oqu9TBX_1c",
        "outputId": "38731af8-7fa6-4c82-b434-e23fb0b515b5"
      },
      "execution_count": 15,
      "outputs": [
        {
          "output_type": "execute_result",
          "data": {
            "text/plain": [
              "{2, 3}"
            ]
          },
          "metadata": {},
          "execution_count": 15
        }
      ]
    },
    {
      "cell_type": "code",
      "source": [
        "#Q21.WRITE a code to create a dictionary with the keys \"name\",\"age\",\"city\" and print?\n",
        "dict={\"name\":\"ashutosh\",\"age\":23,\"city\":\"lucknow\"}\n",
        "print(dict)"
      ],
      "metadata": {
        "colab": {
          "base_uri": "https://localhost:8080/"
        },
        "id": "fkDNKXC_YTf8",
        "outputId": "5e4c8be1-267d-4af8-dace-1730e1a9a20b"
      },
      "execution_count": 16,
      "outputs": [
        {
          "output_type": "stream",
          "name": "stdout",
          "text": [
            "{'name': 'ashutosh', 'age': 23, 'city': 'lucknow'}\n"
          ]
        }
      ]
    },
    {
      "cell_type": "code",
      "source": [
        "#Q22.write a code to add a new key-value pair \"country\":\"usa\"to the dictionary{\"name\":'jhon','age',25}?\n",
        "dict={\"name\":\"jhon\",\"age\":25}\n",
        "dict[\"country\"]=\"usa\"\n",
        "print(dict)\n"
      ],
      "metadata": {
        "colab": {
          "base_uri": "https://localhost:8080/"
        },
        "id": "LhRqxUDyYjz7",
        "outputId": "cf164df2-74e8-4cf9-d6c3-1579c6e7bb24"
      },
      "execution_count": 19,
      "outputs": [
        {
          "output_type": "stream",
          "name": "stdout",
          "text": [
            "{'name': 'jhon', 'age': 25, 'country': 'usa'}\n"
          ]
        }
      ]
    },
    {
      "cell_type": "code",
      "source": [
        "#Q23.write a code to access the value associated with the key \"name\"in the dictionary{'name':'alice','age':30}?\n",
        "dict={'name':'alice','age':30}\n",
        "dict[\"name\"]"
      ],
      "metadata": {
        "colab": {
          "base_uri": "https://localhost:8080/",
          "height": 36
        },
        "id": "iOD-Jw8hZaMN",
        "outputId": "51511a8f-3f9c-4541-88b1-810dc9f28761"
      },
      "execution_count": 20,
      "outputs": [
        {
          "output_type": "execute_result",
          "data": {
            "text/plain": [
              "'alice'"
            ],
            "application/vnd.google.colaboratory.intrinsic+json": {
              "type": "string"
            }
          },
          "metadata": {},
          "execution_count": 20
        }
      ]
    },
    {
      "cell_type": "code",
      "source": [
        "#Q24.write a code to remove the key \"age\"from the dictionary {'name':'bob','age':22,'city':'new york'}?\n",
        "dict={'name':'bob','age':22,'city':'new york'}\n",
        "dict.pop(\"age\")\n",
        "print(dict)"
      ],
      "metadata": {
        "colab": {
          "base_uri": "https://localhost:8080/"
        },
        "id": "gJGHqGi1akcV",
        "outputId": "922075e0-d115-4264-8de5-47566fd85ed7"
      },
      "execution_count": 21,
      "outputs": [
        {
          "output_type": "stream",
          "name": "stdout",
          "text": [
            "{'name': 'bob', 'city': 'new york'}\n"
          ]
        }
      ]
    },
    {
      "cell_type": "code",
      "source": [
        "#Q25.write a code to check if the key \"city\"exists in the dictionary {'name':'alice','city':'paris'}?\n",
        "dict={'name':'alice','city':'paris'}\n",
        "'city' in dict\n"
      ],
      "metadata": {
        "colab": {
          "base_uri": "https://localhost:8080/"
        },
        "id": "iE2iVluwbQsF",
        "outputId": "822e6b52-cd45-44b6-98ca-4463af61b31c"
      },
      "execution_count": 22,
      "outputs": [
        {
          "output_type": "execute_result",
          "data": {
            "text/plain": [
              "True"
            ]
          },
          "metadata": {},
          "execution_count": 22
        }
      ]
    },
    {
      "cell_type": "code",
      "source": [
        "#Q26.write a code to create a list , a tuple ,and a dictionary,and print them all?\n",
        "list=[1,2,3,4]\n",
        "tuple=(1,2,3,4)\n",
        "dict={\"name\":\"ashutosh\",\"age\":23}\n",
        "print(list)\n",
        "print(tuple)\n",
        "print(dict)"
      ],
      "metadata": {
        "colab": {
          "base_uri": "https://localhost:8080/"
        },
        "id": "pAz1q6YhcVMe",
        "outputId": "5a830410-329b-4bb2-e893-2f0d49aeabd7"
      },
      "execution_count": 23,
      "outputs": [
        {
          "output_type": "stream",
          "name": "stdout",
          "text": [
            "[1, 2, 3, 4]\n",
            "(1, 2, 3, 4)\n",
            "{'name': 'ashutosh', 'age': 23}\n"
          ]
        }
      ]
    },
    {
      "cell_type": "code",
      "source": [
        "#Q27.write a code to create a list of 5 random numbers between 1 to 100 , sort it in ascending order and print the result?\n",
        "import random\n",
        "list=[random.randint(1,100) for i in range(5)]\n",
        "list.sort()\n",
        "print(list)\n",
        "import random\n",
        "\n"
      ],
      "metadata": {
        "colab": {
          "base_uri": "https://localhost:8080/"
        },
        "id": "Xm--b4sUcrxX",
        "outputId": "def3fa6a-864a-4ac2-94a7-4c9052516561"
      },
      "execution_count": 40,
      "outputs": [
        {
          "output_type": "stream",
          "name": "stdout",
          "text": [
            "[9, 19, 32, 75, 82]\n"
          ]
        }
      ]
    },
    {
      "cell_type": "code",
      "source": [
        "#Q28.write acode to create a list with strings and print the element at the third index?\n",
        "list=['apple','banana','orange','kiwi']\n",
        "list[3]\n"
      ],
      "metadata": {
        "colab": {
          "base_uri": "https://localhost:8080/",
          "height": 36
        },
        "id": "cMF4zz6vg5zo",
        "outputId": "37838075-fd31-4a3e-8f48-d09e94a3792c"
      },
      "execution_count": 42,
      "outputs": [
        {
          "output_type": "execute_result",
          "data": {
            "text/plain": [
              "'kiwi'"
            ],
            "application/vnd.google.colaboratory.intrinsic+json": {
              "type": "string"
            }
          },
          "metadata": {},
          "execution_count": 42
        }
      ]
    },
    {
      "cell_type": "code",
      "source": [
        "#Q29.write a code to combine two dictionaries into one and print the reult?\n",
        "dict1={\"name\":\"ashutosh\",\"age\":23}\n",
        "dict2={\"city\":\"lucknow\",\"country\":\"india\"}\n",
        "dict1.update(dict2)\n",
        "print(dict1)\n",
        "\n"
      ],
      "metadata": {
        "colab": {
          "base_uri": "https://localhost:8080/"
        },
        "id": "Sye-tgYchTVq",
        "outputId": "7d330ecc-7dfc-4efe-fab0-d7f44c1d29f9"
      },
      "execution_count": 46,
      "outputs": [
        {
          "output_type": "stream",
          "name": "stdout",
          "text": [
            "{'name': 'ashutosh', 'age': 23, 'city': 'lucknow', 'country': 'india'}\n"
          ]
        }
      ]
    },
    {
      "cell_type": "code",
      "source": [
        "#Q30.write a code to convert a list of strings into set?\n",
        "list=['apple','banana','orange']\n",
        "set(list)\n"
      ],
      "metadata": {
        "colab": {
          "base_uri": "https://localhost:8080/"
        },
        "id": "yYPswOs_hoQ-",
        "outputId": "da3a7e47-4ed7-44e1-e5cd-cd7b88a035d3"
      },
      "execution_count": 48,
      "outputs": [
        {
          "output_type": "execute_result",
          "data": {
            "text/plain": [
              "{'apple', 'banana', 'orange'}"
            ]
          },
          "metadata": {},
          "execution_count": 48
        }
      ]
    }
  ]
}